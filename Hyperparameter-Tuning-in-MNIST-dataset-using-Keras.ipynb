{
 "cells": [
  {
   "cell_type": "markdown",
   "metadata": {},
   "source": [
    "## MNIST dataset Hyper-parameter tuning using Keras"
   ]
  },
  {
   "cell_type": "markdown",
   "metadata": {},
   "source": [
    "### Necessary imports and Data pre-processing"
   ]
  },
  {
   "cell_type": "code",
   "execution_count": 1,
   "metadata": {},
   "outputs": [
    {
     "name": "stderr",
     "output_type": "stream",
     "text": [
      "Using TensorFlow backend.\n"
     ]
    }
   ],
   "source": [
    "from __future__ import print_function\n",
    "import keras\n",
    "from keras.datasets import mnist\n",
    "from keras.models import Sequential\n",
    "from keras.layers import Dense, Dropout, Flatten\n",
    "from keras.layers import Conv2D, MaxPooling2D\n",
    "from keras import backend as K\n",
    "\n",
    "batch_size = 128\n",
    "num_classes = 10\n",
    "epochs = 12"
   ]
  },
  {
   "cell_type": "code",
   "execution_count": 2,
   "metadata": {},
   "outputs": [],
   "source": [
    "# input image dimensions\n",
    "img_rows, img_cols = 28, 28\n",
    "\n",
    "# the data, split between train and test sets\n",
    "(x_train, y_train), (x_test, y_test) = mnist.load_data()"
   ]
  },
  {
   "cell_type": "code",
   "execution_count": 3,
   "metadata": {},
   "outputs": [
    {
     "name": "stdout",
     "output_type": "stream",
     "text": [
      "x_train shape: (60000, 28, 28, 1)\n",
      "60000 train samples\n",
      "10000 test samples\n"
     ]
    }
   ],
   "source": [
    "if K.image_data_format() == 'channels_first':\n",
    "    x_train = x_train.reshape(x_train.shape[0], 1, img_rows, img_cols)\n",
    "    x_test = x_test.reshape(x_test.shape[0], 1, img_rows, img_cols)\n",
    "    input_shape = (1, img_rows, img_cols)\n",
    "else:\n",
    "    x_train = x_train.reshape(x_train.shape[0], img_rows, img_cols, 1)\n",
    "    x_test = x_test.reshape(x_test.shape[0], img_rows, img_cols, 1)\n",
    "    input_shape = (img_rows, img_cols, 1)\n",
    "\n",
    "x_train = x_train.astype('float32')\n",
    "x_test = x_test.astype('float32')\n",
    "x_train /= 255\n",
    "x_test /= 255\n",
    "print('x_train shape:', x_train.shape)\n",
    "print(x_train.shape[0], 'train samples')\n",
    "print(x_test.shape[0], 'test samples')"
   ]
  },
  {
   "cell_type": "code",
   "execution_count": 4,
   "metadata": {},
   "outputs": [],
   "source": [
    "# convert class vectors to binary class matrices\n",
    "y_train = keras.utils.to_categorical(y_train, num_classes)\n",
    "y_test = keras.utils.to_categorical(y_test, num_classes)"
   ]
  },
  {
   "cell_type": "markdown",
   "metadata": {},
   "source": [
    "### Model 1 architecture"
   ]
  },
  {
   "cell_type": "code",
   "execution_count": 5,
   "metadata": {},
   "outputs": [
    {
     "name": "stderr",
     "output_type": "stream",
     "text": [
      "WARNING: Logging before flag parsing goes to stderr.\n",
      "W0930 01:08:34.878734 140259311036160 deprecation_wrapper.py:119] From /data/anaconda/envs/py36/lib/python3.6/site-packages/keras/backend/tensorflow_backend.py:74: The name tf.get_default_graph is deprecated. Please use tf.compat.v1.get_default_graph instead.\n",
      "\n",
      "W0930 01:08:34.895502 140259311036160 deprecation_wrapper.py:119] From /data/anaconda/envs/py36/lib/python3.6/site-packages/keras/backend/tensorflow_backend.py:517: The name tf.placeholder is deprecated. Please use tf.compat.v1.placeholder instead.\n",
      "\n",
      "W0930 01:08:34.897800 140259311036160 deprecation_wrapper.py:119] From /data/anaconda/envs/py36/lib/python3.6/site-packages/keras/backend/tensorflow_backend.py:4138: The name tf.random_uniform is deprecated. Please use tf.random.uniform instead.\n",
      "\n",
      "W0930 01:08:34.925722 140259311036160 deprecation_wrapper.py:119] From /data/anaconda/envs/py36/lib/python3.6/site-packages/keras/backend/tensorflow_backend.py:3976: The name tf.nn.max_pool is deprecated. Please use tf.nn.max_pool2d instead.\n",
      "\n",
      "W0930 01:08:34.928047 140259311036160 deprecation_wrapper.py:119] From /data/anaconda/envs/py36/lib/python3.6/site-packages/keras/backend/tensorflow_backend.py:133: The name tf.placeholder_with_default is deprecated. Please use tf.compat.v1.placeholder_with_default instead.\n",
      "\n",
      "W0930 01:08:34.935562 140259311036160 deprecation.py:506] From /data/anaconda/envs/py36/lib/python3.6/site-packages/keras/backend/tensorflow_backend.py:3445: calling dropout (from tensorflow.python.ops.nn_ops) with keep_prob is deprecated and will be removed in a future version.\n",
      "Instructions for updating:\n",
      "Please use `rate` instead of `keep_prob`. Rate should be set to `rate = 1 - keep_prob`.\n",
      "W0930 01:08:35.012445 140259311036160 deprecation_wrapper.py:119] From /data/anaconda/envs/py36/lib/python3.6/site-packages/keras/optimizers.py:790: The name tf.train.Optimizer is deprecated. Please use tf.compat.v1.train.Optimizer instead.\n",
      "\n",
      "W0930 01:08:35.021905 140259311036160 deprecation_wrapper.py:119] From /data/anaconda/envs/py36/lib/python3.6/site-packages/keras/backend/tensorflow_backend.py:3295: The name tf.log is deprecated. Please use tf.math.log instead.\n",
      "\n"
     ]
    }
   ],
   "source": [
    "# example model for minst\n",
    "model = Sequential()\n",
    "model.add(Conv2D(32, kernel_size=(3, 3),\n",
    "                 activation='relu',\n",
    "                 input_shape=input_shape))\n",
    "model.add(Conv2D(64, (3, 3), activation='relu'))\n",
    "model.add(MaxPooling2D(pool_size=(2, 2)))\n",
    "model.add(Dropout(0.25))\n",
    "model.add(Flatten())\n",
    "model.add(Dense(128, activation='relu'))\n",
    "model.add(Dropout(0.5))\n",
    "model.add(Dense(num_classes, activation='softmax'))\n",
    "\n",
    "model.compile(loss=keras.losses.categorical_crossentropy,\n",
    "              optimizer=keras.optimizers.Adadelta(),\n",
    "              metrics=['accuracy'])"
   ]
  },
  {
   "cell_type": "markdown",
   "metadata": {},
   "source": [
    "### Model 2 architecture"
   ]
  },
  {
   "cell_type": "code",
   "execution_count": 6,
   "metadata": {},
   "outputs": [],
   "source": [
    "# model with different dropouts\n",
    "model2 = Sequential()\n",
    "model2.add(Conv2D(32, kernel_size=(3, 3),\n",
    "                 activation='relu',\n",
    "                 input_shape=input_shape))\n",
    "model2.add(Conv2D(64, (3, 3), activation='relu'))\n",
    "model2.add(MaxPooling2D(pool_size=(2, 2)))\n",
    "model2.add(Dropout(0.5))\n",
    "model2.add(Flatten())\n",
    "model2.add(Dense(128, activation='relu'))\n",
    "model2.add(Dropout(0.5))\n",
    "model2.add(Dense(num_classes, activation='softmax'))\n",
    "\n",
    "model2.compile(loss=keras.losses.categorical_crossentropy,\n",
    "              optimizer=keras.optimizers.Adadelta(),\n",
    "              metrics=['accuracy'])"
   ]
  },
  {
   "cell_type": "markdown",
   "metadata": {},
   "source": [
    "### Model 3 architecture"
   ]
  },
  {
   "cell_type": "code",
   "execution_count": 7,
   "metadata": {},
   "outputs": [],
   "source": [
    "# model with more convolution layers\n",
    "model3 = Sequential()\n",
    "model3.add(Conv2D(32, kernel_size=(3, 3),\n",
    "                 activation='relu',\n",
    "                 input_shape=input_shape))\n",
    "model3.add(Conv2D(64, (3, 3), activation='relu'))\n",
    "model3.add(Conv2D(64, (3, 3), activation='relu'))\n",
    "model3.add(Conv2D(64, (3, 3), activation='relu'))\n",
    "model3.add(MaxPooling2D(pool_size=(2, 2)))\n",
    "model3.add(Dropout(0.25))\n",
    "model3.add(Flatten())\n",
    "model3.add(Dense(128, activation='relu'))\n",
    "model3.add(Dropout(0.5))\n",
    "model3.add(Dense(num_classes, activation='softmax'))\n",
    "\n",
    "model3.compile(loss=keras.losses.categorical_crossentropy,\n",
    "              optimizer=keras.optimizers.Adadelta(),\n",
    "              metrics=['accuracy'])"
   ]
  },
  {
   "cell_type": "markdown",
   "metadata": {},
   "source": [
    "### Model 4 architecture"
   ]
  },
  {
   "cell_type": "code",
   "execution_count": 8,
   "metadata": {},
   "outputs": [],
   "source": [
    "# model with more pooling layers\n",
    "model4 = Sequential()\n",
    "model4.add(Conv2D(32, kernel_size=(3, 3),\n",
    "                 activation='relu',\n",
    "                 input_shape=input_shape))\n",
    "model4.add(Conv2D(64, (3, 3), activation='relu'))\n",
    "model4.add(MaxPooling2D(pool_size=(2, 2)))\n",
    "model4.add(Dropout(0.25))\n",
    "model4.add(Conv2D(80, (3, 3), activation='relu'))\n",
    "model4.add(MaxPooling2D(pool_size=(2, 2)))\n",
    "model4.add(Dropout(0.25))\n",
    "model4.add(Flatten())\n",
    "model4.add(Dense(128, activation='relu'))\n",
    "model4.add(Dropout(0.5))\n",
    "model4.add(Dense(num_classes, activation='softmax'))\n",
    "\n",
    "model4.compile(loss=keras.losses.categorical_crossentropy,\n",
    "              optimizer=keras.optimizers.Adadelta(),\n",
    "              metrics=['accuracy'])"
   ]
  },
  {
   "cell_type": "markdown",
   "metadata": {},
   "source": [
    "### Model 5 architecture"
   ]
  },
  {
   "cell_type": "code",
   "execution_count": 9,
   "metadata": {},
   "outputs": [],
   "source": [
    "# model with multiple layers modified\n",
    "model5 = Sequential()\n",
    "model5.add(Conv2D(32, kernel_size=(3, 3),\n",
    "                 activation='relu',\n",
    "                 input_shape=input_shape))\n",
    "model5.add(Conv2D(64, (3, 3), activation='relu'))\n",
    "model5.add(Conv2D(64, (3, 3), activation='relu'))\n",
    "model5.add(MaxPooling2D(pool_size=(2, 2)))\n",
    "model5.add(Dropout(0.25))\n",
    "model5.add(Conv2D(80, (3, 3), activation='relu'))\n",
    "model5.add(Conv2D(80, (3, 3), activation='relu'))\n",
    "model5.add(MaxPooling2D(pool_size=(2, 2)))\n",
    "model5.add(Dropout(0.25))\n",
    "model5.add(Flatten())\n",
    "model5.add(Dense(128, activation='relu'))\n",
    "model5.add(Dropout(0.25))\n",
    "model5.add(Dense(num_classes, activation='softmax'))\n",
    "\n",
    "model5.compile(loss=keras.losses.categorical_crossentropy,\n",
    "              optimizer=keras.optimizers.Adadelta(),\n",
    "              metrics=['accuracy'])"
   ]
  },
  {
   "cell_type": "markdown",
   "metadata": {},
   "source": [
    "### Training all above models"
   ]
  },
  {
   "cell_type": "code",
   "execution_count": 10,
   "metadata": {},
   "outputs": [],
   "source": [
    "model_list = [model, model2, model3, model4, model5]"
   ]
  },
  {
   "cell_type": "code",
   "execution_count": 11,
   "metadata": {},
   "outputs": [
    {
     "name": "stderr",
     "output_type": "stream",
     "text": [
      "W0930 01:08:38.806349 140259311036160 deprecation.py:323] From /data/anaconda/envs/py36/lib/python3.6/site-packages/tensorflow/python/ops/math_grad.py:1250: add_dispatch_support.<locals>.wrapper (from tensorflow.python.ops.array_ops) is deprecated and will be removed in a future version.\n",
      "Instructions for updating:\n",
      "Use tf.where in 2.0, which has the same broadcast rule as np.where\n"
     ]
    },
    {
     "name": "stdout",
     "output_type": "stream",
     "text": [
      "Train on 60000 samples, validate on 10000 samples\n",
      "Epoch 1/12\n",
      "60000/60000 [==============================] - 9s 145us/step - loss: 0.2538 - acc: 0.9222 - val_loss: 0.0560 - val_acc: 0.9816\n",
      "Epoch 2/12\n",
      "60000/60000 [==============================] - 6s 102us/step - loss: 0.0883 - acc: 0.9736 - val_loss: 0.0462 - val_acc: 0.9845\n",
      "Epoch 3/12\n",
      "60000/60000 [==============================] - 6s 101us/step - loss: 0.0666 - acc: 0.9808 - val_loss: 0.0327 - val_acc: 0.9882\n",
      "Epoch 4/12\n",
      "60000/60000 [==============================] - 6s 102us/step - loss: 0.0549 - acc: 0.9835 - val_loss: 0.0313 - val_acc: 0.9891\n",
      "Epoch 5/12\n",
      "60000/60000 [==============================] - 6s 101us/step - loss: 0.0470 - acc: 0.9861 - val_loss: 0.0373 - val_acc: 0.9880\n",
      "Epoch 6/12\n",
      "60000/60000 [==============================] - 6s 101us/step - loss: 0.0418 - acc: 0.9874 - val_loss: 0.0302 - val_acc: 0.9894\n",
      "Epoch 7/12\n",
      "60000/60000 [==============================] - 6s 101us/step - loss: 0.0361 - acc: 0.9892 - val_loss: 0.0289 - val_acc: 0.9906\n",
      "Epoch 8/12\n",
      "60000/60000 [==============================] - 6s 101us/step - loss: 0.0340 - acc: 0.9897 - val_loss: 0.0282 - val_acc: 0.9916\n",
      "Epoch 9/12\n",
      "60000/60000 [==============================] - 6s 101us/step - loss: 0.0318 - acc: 0.9901 - val_loss: 0.0265 - val_acc: 0.9911\n",
      "Epoch 10/12\n",
      "60000/60000 [==============================] - 6s 101us/step - loss: 0.0291 - acc: 0.9910 - val_loss: 0.0285 - val_acc: 0.9915\n",
      "Epoch 11/12\n",
      "60000/60000 [==============================] - 6s 101us/step - loss: 0.0283 - acc: 0.9912 - val_loss: 0.0277 - val_acc: 0.9918\n",
      "Epoch 12/12\n",
      "60000/60000 [==============================] - 6s 101us/step - loss: 0.0261 - acc: 0.9922 - val_loss: 0.0260 - val_acc: 0.9924\n",
      "Train on 60000 samples, validate on 10000 samples\n",
      "Epoch 1/12\n",
      "60000/60000 [==============================] - 7s 110us/step - loss: 0.2745 - acc: 0.9159 - val_loss: 0.0648 - val_acc: 0.9797\n",
      "Epoch 2/12\n",
      "60000/60000 [==============================] - 6s 102us/step - loss: 0.1022 - acc: 0.9703 - val_loss: 0.0447 - val_acc: 0.9851\n",
      "Epoch 3/12\n",
      "60000/60000 [==============================] - 6s 101us/step - loss: 0.0775 - acc: 0.9775 - val_loss: 0.0369 - val_acc: 0.9871\n",
      "Epoch 4/12\n",
      "60000/60000 [==============================] - 6s 101us/step - loss: 0.0665 - acc: 0.9800 - val_loss: 0.0337 - val_acc: 0.9881\n",
      "Epoch 5/12\n",
      "60000/60000 [==============================] - 6s 102us/step - loss: 0.0574 - acc: 0.9830 - val_loss: 0.0298 - val_acc: 0.9900\n",
      "Epoch 6/12\n",
      "60000/60000 [==============================] - 6s 101us/step - loss: 0.0519 - acc: 0.9844 - val_loss: 0.0318 - val_acc: 0.9888\n",
      "Epoch 7/12\n",
      "60000/60000 [==============================] - 6s 102us/step - loss: 0.0495 - acc: 0.9853 - val_loss: 0.0296 - val_acc: 0.9905\n",
      "Epoch 8/12\n",
      "60000/60000 [==============================] - 6s 101us/step - loss: 0.0463 - acc: 0.9859 - val_loss: 0.0279 - val_acc: 0.9908\n",
      "Epoch 9/12\n",
      "60000/60000 [==============================] - 6s 102us/step - loss: 0.0439 - acc: 0.9867 - val_loss: 0.0288 - val_acc: 0.9900\n",
      "Epoch 10/12\n",
      "60000/60000 [==============================] - 6s 101us/step - loss: 0.0439 - acc: 0.9870 - val_loss: 0.0261 - val_acc: 0.9907\n",
      "Epoch 11/12\n",
      "60000/60000 [==============================] - 6s 102us/step - loss: 0.0406 - acc: 0.9876 - val_loss: 0.0280 - val_acc: 0.9908\n",
      "Epoch 12/12\n",
      "60000/60000 [==============================] - 6s 101us/step - loss: 0.0398 - acc: 0.9879 - val_loss: 0.0273 - val_acc: 0.9917\n",
      "Train on 60000 samples, validate on 10000 samples\n",
      "Epoch 1/12\n",
      "60000/60000 [==============================] - 11s 186us/step - loss: 0.2609 - acc: 0.9196 - val_loss: 0.0619 - val_acc: 0.9806\n",
      "Epoch 2/12\n",
      "60000/60000 [==============================] - 10s 173us/step - loss: 0.0774 - acc: 0.9771 - val_loss: 0.0334 - val_acc: 0.9876\n",
      "Epoch 3/12\n",
      "60000/60000 [==============================] - 10s 173us/step - loss: 0.0574 - acc: 0.9833 - val_loss: 0.0302 - val_acc: 0.9898\n",
      "Epoch 4/12\n",
      "60000/60000 [==============================] - 10s 173us/step - loss: 0.0461 - acc: 0.9867 - val_loss: 0.0242 - val_acc: 0.9914\n",
      "Epoch 5/12\n",
      "60000/60000 [==============================] - 10s 173us/step - loss: 0.0385 - acc: 0.9883 - val_loss: 0.0260 - val_acc: 0.9915\n",
      "Epoch 6/12\n",
      "60000/60000 [==============================] - 10s 174us/step - loss: 0.0335 - acc: 0.9898 - val_loss: 0.0235 - val_acc: 0.9917\n",
      "Epoch 7/12\n",
      "60000/60000 [==============================] - 10s 173us/step - loss: 0.0305 - acc: 0.9908 - val_loss: 0.0227 - val_acc: 0.9926\n",
      "Epoch 8/12\n",
      "60000/60000 [==============================] - 10s 173us/step - loss: 0.0279 - acc: 0.9918 - val_loss: 0.0196 - val_acc: 0.9933\n",
      "Epoch 9/12\n",
      "60000/60000 [==============================] - 10s 174us/step - loss: 0.0249 - acc: 0.9926 - val_loss: 0.0203 - val_acc: 0.9935\n",
      "Epoch 10/12\n",
      "60000/60000 [==============================] - 10s 173us/step - loss: 0.0222 - acc: 0.9932 - val_loss: 0.0193 - val_acc: 0.9941\n",
      "Epoch 11/12\n",
      "60000/60000 [==============================] - 11s 176us/step - loss: 0.0214 - acc: 0.9939 - val_loss: 0.0206 - val_acc: 0.9929\n",
      "Epoch 12/12\n",
      "60000/60000 [==============================] - 10s 175us/step - loss: 0.0187 - acc: 0.9940 - val_loss: 0.0220 - val_acc: 0.9928\n",
      "Train on 60000 samples, validate on 10000 samples\n",
      "Epoch 1/12\n",
      "60000/60000 [==============================] - 7s 117us/step - loss: 0.3023 - acc: 0.9043 - val_loss: 0.0541 - val_acc: 0.9820\n",
      "Epoch 2/12\n",
      "60000/60000 [==============================] - 6s 106us/step - loss: 0.0942 - acc: 0.9725 - val_loss: 0.0329 - val_acc: 0.9884\n",
      "Epoch 3/12\n",
      "60000/60000 [==============================] - 6s 106us/step - loss: 0.0685 - acc: 0.9794 - val_loss: 0.0304 - val_acc: 0.9897\n",
      "Epoch 4/12\n",
      "60000/60000 [==============================] - 6s 107us/step - loss: 0.0557 - acc: 0.9835 - val_loss: 0.0263 - val_acc: 0.9907\n",
      "Epoch 5/12\n",
      "60000/60000 [==============================] - 6s 106us/step - loss: 0.0495 - acc: 0.9849 - val_loss: 0.0284 - val_acc: 0.9905\n",
      "Epoch 6/12\n",
      "60000/60000 [==============================] - 6s 106us/step - loss: 0.0462 - acc: 0.9860 - val_loss: 0.0211 - val_acc: 0.9926\n",
      "Epoch 7/12\n",
      "60000/60000 [==============================] - 6s 106us/step - loss: 0.0417 - acc: 0.9873 - val_loss: 0.0207 - val_acc: 0.9934\n",
      "Epoch 8/12\n",
      "60000/60000 [==============================] - 6s 107us/step - loss: 0.0374 - acc: 0.9889 - val_loss: 0.0191 - val_acc: 0.9939\n",
      "Epoch 9/12\n",
      "60000/60000 [==============================] - 6s 105us/step - loss: 0.0348 - acc: 0.9897 - val_loss: 0.0192 - val_acc: 0.9939\n",
      "Epoch 10/12\n",
      "60000/60000 [==============================] - 6s 106us/step - loss: 0.0317 - acc: 0.9903 - val_loss: 0.0218 - val_acc: 0.9924\n",
      "Epoch 11/12\n",
      "60000/60000 [==============================] - 6s 106us/step - loss: 0.0315 - acc: 0.9904 - val_loss: 0.0186 - val_acc: 0.9945\n",
      "Epoch 12/12\n",
      "60000/60000 [==============================] - 6s 106us/step - loss: 0.0286 - acc: 0.9916 - val_loss: 0.0197 - val_acc: 0.9945\n",
      "Train on 60000 samples, validate on 10000 samples\n",
      "Epoch 1/12\n",
      "60000/60000 [==============================] - 10s 172us/step - loss: 0.2951 - acc: 0.9058 - val_loss: 0.0488 - val_acc: 0.9841\n",
      "Epoch 2/12\n",
      "60000/60000 [==============================] - 9s 156us/step - loss: 0.0718 - acc: 0.9784 - val_loss: 0.0380 - val_acc: 0.9880\n",
      "Epoch 3/12\n",
      "60000/60000 [==============================] - 9s 157us/step - loss: 0.0494 - acc: 0.9848 - val_loss: 0.0283 - val_acc: 0.9906\n",
      "Epoch 4/12\n",
      "60000/60000 [==============================] - 9s 157us/step - loss: 0.0417 - acc: 0.9871 - val_loss: 0.0220 - val_acc: 0.9928\n",
      "Epoch 5/12\n",
      "60000/60000 [==============================] - 9s 157us/step - loss: 0.0332 - acc: 0.9901 - val_loss: 0.0201 - val_acc: 0.9934\n",
      "Epoch 6/12\n",
      "60000/60000 [==============================] - 9s 157us/step - loss: 0.0284 - acc: 0.9911 - val_loss: 0.0170 - val_acc: 0.9945\n",
      "Epoch 7/12\n",
      "60000/60000 [==============================] - 9s 157us/step - loss: 0.0259 - acc: 0.9924 - val_loss: 0.0232 - val_acc: 0.9922\n",
      "Epoch 8/12\n",
      "60000/60000 [==============================] - 9s 156us/step - loss: 0.0254 - acc: 0.9921 - val_loss: 0.0186 - val_acc: 0.9947\n",
      "Epoch 9/12\n",
      "60000/60000 [==============================] - 9s 156us/step - loss: 0.0222 - acc: 0.9930 - val_loss: 0.0151 - val_acc: 0.9951\n",
      "Epoch 10/12\n",
      "60000/60000 [==============================] - 9s 157us/step - loss: 0.0199 - acc: 0.9937 - val_loss: 0.0170 - val_acc: 0.9951\n",
      "Epoch 11/12\n",
      "60000/60000 [==============================] - 9s 156us/step - loss: 0.0191 - acc: 0.9938 - val_loss: 0.0172 - val_acc: 0.9947\n",
      "Epoch 12/12\n",
      "60000/60000 [==============================] - 9s 157us/step - loss: 0.0169 - acc: 0.9947 - val_loss: 0.0223 - val_acc: 0.9941\n"
     ]
    }
   ],
   "source": [
    "for m in model_list:\n",
    "    m.fit(x_train, y_train,\n",
    "          batch_size=batch_size,\n",
    "          epochs=epochs,\n",
    "          verbose=1,\n",
    "          validation_data=(x_test, y_test))"
   ]
  },
  {
   "cell_type": "markdown",
   "metadata": {},
   "source": [
    "### Evaluating performance for all models"
   ]
  },
  {
   "cell_type": "code",
   "execution_count": 16,
   "metadata": {},
   "outputs": [
    {
     "name": "stdout",
     "output_type": "stream",
     "text": [
      "Model 1:\n",
      "Test loss: 0.026031052596670996\n",
      "Test accuracy: 0.9924\n",
      "Model 2:\n",
      "Test loss: 0.02729052090723326\n",
      "Test accuracy: 0.9917\n",
      "Model 3:\n",
      "Test loss: 0.021974435926543082\n",
      "Test accuracy: 0.9928\n",
      "Model 4:\n",
      "Test loss: 0.019670918068879654\n",
      "Test accuracy: 0.9945\n",
      "Model 5:\n",
      "Test loss: 0.022290204257155347\n",
      "Test accuracy: 0.9941\n"
     ]
    }
   ],
   "source": [
    "for index, m in enumerate(model_list):\n",
    "    print('Model %d:' % (index+1))\n",
    "    score = m.evaluate(x_test, y_test, verbose=0)\n",
    "    print('Test loss:', score[0])\n",
    "    print('Test accuracy:', score[1])"
   ]
  }
 ],
 "metadata": {
  "kernelspec": {
   "display_name": "Python 3",
   "language": "python",
   "name": "python3"
  },
  "language_info": {
   "codemirror_mode": {
    "name": "ipython",
    "version": 3
   },
   "file_extension": ".py",
   "mimetype": "text/x-python",
   "name": "python",
   "nbconvert_exporter": "python",
   "pygments_lexer": "ipython3",
   "version": "3.7.2"
  }
 },
 "nbformat": 4,
 "nbformat_minor": 2
}
